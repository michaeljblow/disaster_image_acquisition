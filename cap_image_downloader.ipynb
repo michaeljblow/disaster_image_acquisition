{
 "cells": [
  {
   "cell_type": "code",
   "execution_count": 16,
   "metadata": {},
   "outputs": [],
   "source": [
    "from selenium import webdriver\n",
    "import requests\n",
    "import time\n",
    "import os"
   ]
  },
  {
   "cell_type": "code",
   "execution_count": 26,
   "metadata": {},
   "outputs": [],
   "source": [
    "def get_jpg_urls_on_page(page_url):\n",
    "    images = []\n",
    "    browser = webdriver.Firefox()\n",
    "    browser.get(page_url)\n",
    "    time.sleep(5)\n",
    "    links = browser.find_elements_by_xpath('//a[@href]')\n",
    "    for link in links:\n",
    "        image = link.get_attribute('href')\n",
    "        images.append(image)\n",
    "    images = [x for x in images if '.jpg' in x]\n",
    "    return images"
   ]
  },
  {
   "cell_type": "code",
   "execution_count": 27,
   "metadata": {},
   "outputs": [],
   "source": [
    "image_batch = get_jpg_urls_on_page()"
   ]
  },
  {
   "cell_type": "code",
   "execution_count": 62,
   "metadata": {},
   "outputs": [],
   "source": [
    "def download_images(image_url_list):\n",
    "    \n",
    "    # Loops through list of image urls and downloads to folder\n",
    "    for url in image_url_list:\n",
    "\n",
    "        # GET request\n",
    "        res = requests.get(url, stream=True)\n",
    "        \n",
    "        # Grabs raw data\n",
    "        image = res.raw.read()\n",
    "\n",
    "        # Create folder to hold image or place in existing folder\n",
    "        os.makedirs(url.split('/')[-2], exist_ok=True)\n",
    "        \n",
    "        # Opens file, writes binary image data, closes file.\n",
    "        with open('./'+url.split('/')[-2]+'/'+url.split('/')[-1], 'wb') as file:\n",
    "            file.write(image)\n",
    "            file.close()"
   ]
  },
  {
   "cell_type": "code",
   "execution_count": 64,
   "metadata": {},
   "outputs": [],
   "source": [
    "event = 'http://fema-cap-imagery.s3-website-us-east-1.amazonaws.com/Images/9173/616568/'"
   ]
  },
  {
   "cell_type": "code",
   "execution_count": null,
   "metadata": {},
   "outputs": [],
   "source": [
    "image_batch = get_jpg_urls_on_page(event)"
   ]
  },
  {
   "cell_type": "code",
   "execution_count": 63,
   "metadata": {},
   "outputs": [],
   "source": [
    "download_images(image_batch)"
   ]
  }
 ],
 "metadata": {
  "kernelspec": {
   "display_name": "Python [conda env:dsi] *",
   "language": "python",
   "name": "conda-env-dsi-py"
  },
  "language_info": {
   "codemirror_mode": {
    "name": "ipython",
    "version": 3
   },
   "file_extension": ".py",
   "mimetype": "text/x-python",
   "name": "python",
   "nbconvert_exporter": "python",
   "pygments_lexer": "ipython3",
   "version": "3.7.6"
  }
 },
 "nbformat": 4,
 "nbformat_minor": 4
}
