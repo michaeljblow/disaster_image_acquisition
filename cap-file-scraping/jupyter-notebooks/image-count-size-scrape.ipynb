{
 "cells": [
  {
   "cell_type": "code",
   "execution_count": 1,
   "metadata": {},
   "outputs": [
    {
     "name": "stdin",
     "output_type": "stream",
     "text": [
      "Enter Event Number:\n",
      "  2029\n"
     ]
    },
    {
     "name": "stdout",
     "output_type": "stream",
     "text": [
      "Total Number of Flights : 1\n",
      "Total Image Count       : 40\n",
      "Largest File Size       : 908.0 MB\n",
      "Total File Count        : 6.45 GB\n"
     ]
    }
   ],
   "source": [
    "import pandas as pd\n",
    "from selenium import webdriver\n",
    "import time\n",
    "\n",
    "# Requesting user to input desired FEMA \"event number\"\n",
    "event_number = event_number = input(\"Enter Event Number:\\n \")\n",
    "\n",
    "# Assigning browser to be Firefox\n",
    "driver = webdriver.Firefox()\n",
    "\n",
    "# Setting base url\n",
    "base_url = 'http://fema-cap-imagery.s3-website-us-east-1.amazonaws.com/Images/'\n",
    "\n",
    "url = f'{base_url}{event_number}/'\n",
    "\n",
    "url\n",
    "\n",
    "# Collecting page data\n",
    "driver.get(url)\n",
    "time.sleep(5)\n",
    "\n",
    "# Pulling everything under the 'listing' element into a variable and converting to list\n",
    "main_list = driver.find_element_by_id('listing').text.split()\n",
    "\n",
    "# Generating list individual flight events\n",
    "# Checking against substrings and removing '/' from each itme\n",
    "flight_list = [i.strip('/') for i in main_list if ('/' in i) and ('..' not in i)]\n",
    "\n",
    "flight_list\n",
    "\n",
    "# Instantiating empty list to store all file size numbers\n",
    "file_sizes = []\n",
    "\n",
    "# Loop through each flight event and \n",
    "for flight in flight_list:\n",
    "    temp_url = f'{url}{flight}/'\n",
    "    driver.get(temp_url)\n",
    "    time.sleep(5)\n",
    "    temp_image_file_size_list = driver.find_element_by_id('listing').text.split()\n",
    "    temp_image_file_size_list = [float(i) for i in temp_image_file_size_list if (len(i) <= 5) and ('..' not in i) and ('.' in i)]\n",
    "    file_sizes = file_sizes + temp_image_file_size_list\n",
    "\n",
    "# Closing Firefox\n",
    "driver.close()\n",
    "\n",
    "print(f'Total Number of Flights             : {len(flight_list)}')\n",
    "print(f'Total Image Count                   : {len(file_sizes)}')\n",
    "print(f'Largest File Size                   : {max(file_sizes)} MB')\n",
    "print(f'Approximate Total File Count        : {round((sum(file_sizes)), 2)} MB')"
   ]
  },
  {
   "cell_type": "code",
   "execution_count": null,
   "metadata": {},
   "outputs": [],
   "source": []
  }
 ],
 "metadata": {
  "kernelspec": {
   "display_name": "Python [conda env:dsi] *",
   "language": "python",
   "name": "conda-env-dsi-py"
  },
  "language_info": {
   "codemirror_mode": {
    "name": "ipython",
    "version": 3
   },
   "file_extension": ".py",
   "mimetype": "text/x-python",
   "name": "python",
   "nbconvert_exporter": "python",
   "pygments_lexer": "ipython3",
   "version": "3.7.6"
  }
 },
 "nbformat": 4,
 "nbformat_minor": 4
}
