{
 "cells": [
  {
   "cell_type": "code",
   "execution_count": 39,
   "metadata": {},
   "outputs": [],
   "source": [
    "import pandas as pd\n",
    "from selenium import webdriver\n",
    "import time"
   ]
  },
  {
   "cell_type": "code",
   "execution_count": 2,
   "metadata": {},
   "outputs": [],
   "source": [
    "# Assigning browser to be Firefox\n",
    "driver = webdriver.Firefox()"
   ]
  },
  {
   "cell_type": "code",
   "execution_count": null,
   "metadata": {},
   "outputs": [],
   "source": []
  },
  {
   "cell_type": "code",
   "execution_count": 8,
   "metadata": {},
   "outputs": [],
   "source": [
    "# Setting base url\n",
    "base_url = 'http://fema-cap-imagery.s3-website-us-east-1.amazonaws.com/Images/9173/'\n",
    "\n",
    "# Collecting page data\n",
    "driver.get(base_url)\n",
    "\n",
    "# Pulling everything under the 'listing' element into a variable and converting to list\n",
    "main_list = driver.find_element_by_id('listing').text.split()\n",
    "\n",
    "# Generating list individual flight events\n",
    "# Checking against substrings and removing '/' from each itme\n",
    "flight_list = [i.strip('/') for i in main_list if ('/' in i) and ('..' not in i)]"
   ]
  },
  {
   "cell_type": "code",
   "execution_count": null,
   "metadata": {},
   "outputs": [],
   "source": []
  },
  {
   "cell_type": "code",
   "execution_count": 49,
   "metadata": {},
   "outputs": [],
   "source": [
    "# Instantiating empty list to store all file size numbers\n",
    "file_sizes = []"
   ]
  },
  {
   "cell_type": "code",
   "execution_count": 50,
   "metadata": {},
   "outputs": [],
   "source": [
    "for flight in flight_list:\n",
    "    temp_url = base_url + flight + '/'\n",
    "    driver.get(temp_url)\n",
    "    time.sleep(5)\n",
    "    temp_image_file_size_list = driver.find_element_by_id('listing').text.split()\n",
    "    temp_image_file_size_list = [float(i) for i in temp_image_file_size_list if (len(i) <= 5) and ('..' not in i) and ('.' in i)]\n",
    "    file_sizes = file_sizes + temp_image_file_size_list"
   ]
  },
  {
   "cell_type": "code",
   "execution_count": 59,
   "metadata": {},
   "outputs": [
    {
     "name": "stdout",
     "output_type": "stream",
     "text": [
      "Total image count: 17947\n",
      "Total file count:  87.83 GB\n"
     ]
    }
   ],
   "source": [
    "print(f'Total image count: {len(file_sizes)}')\n",
    "print(f'Total file count:  {round((sum(file_sizes)/1000), 2)} GB')"
   ]
  }
 ],
 "metadata": {
  "kernelspec": {
   "display_name": "Python [conda env:dsi] *",
   "language": "python",
   "name": "conda-env-dsi-py"
  },
  "language_info": {
   "codemirror_mode": {
    "name": "ipython",
    "version": 3
   },
   "file_extension": ".py",
   "mimetype": "text/x-python",
   "name": "python",
   "nbconvert_exporter": "python",
   "pygments_lexer": "ipython3",
   "version": "3.7.6"
  }
 },
 "nbformat": 4,
 "nbformat_minor": 4
}
