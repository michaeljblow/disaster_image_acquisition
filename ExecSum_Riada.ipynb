{
 "cells": [
  {
   "cell_type": "markdown",
   "metadata": {},
   "source": [
    "### Group 2: Rapid Image Acquisition for Disaster Analysis - RIADA\n",
    "##### Client: New Light Technologies\n",
    "##### Prompt: Finding Tents and Other Emergency Housing Through Exploitation of Satellite Imagery (changed by client)"
   ]
  },
  {
   "cell_type": "markdown",
   "metadata": {},
   "source": [
    "##### Executive Summary"
   ]
  },
  {
   "cell_type": "markdown",
   "metadata": {},
   "source": [
    "In the aftermath of natural disasters, displaced persons can be forced from their homes into makeshift shelters / tents. It is in the interests of FEMA and other disaster response agencies to locate these tents quickly, so that the displaced populations can be contacted, provided for, and possibly brought to organized camps. Dangerzone Data Science developed the Rapid Image Acquisition for Disaster Analysis (RIADA) tool to help New Light Technologies and other disaster response organizations to quickly access Civil Air Patrol (CAP) aerial imagery to determine where displaced persons have congregated. Currently, RIADA streamlines the downloading of image libraries of CAP imagery with minimal user input and oversight. With more time and resources allocated to its development, Dangerzone Data Science envisions the use of convolutional neural networks to allow RIADA to identify whether or not an image contains a tent, an indicator of displaced persons."
   ]
  },
  {
   "cell_type": "code",
   "execution_count": null,
   "metadata": {},
   "outputs": [],
   "source": []
  }
 ],
 "metadata": {
  "kernelspec": {
   "display_name": "Python 3",
   "language": "python",
   "name": "python3"
  },
  "language_info": {
   "codemirror_mode": {
    "name": "ipython",
    "version": 3
   },
   "file_extension": ".py",
   "mimetype": "text/x-python",
   "name": "python",
   "nbconvert_exporter": "python",
   "pygments_lexer": "ipython3",
   "version": "3.7.4"
  }
 },
 "nbformat": 4,
 "nbformat_minor": 4
}
