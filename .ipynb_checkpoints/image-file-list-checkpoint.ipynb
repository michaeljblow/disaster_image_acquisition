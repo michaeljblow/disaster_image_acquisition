{
 "cells": [
  {
   "cell_type": "code",
   "execution_count": 1,
   "metadata": {},
   "outputs": [],
   "source": [
    "# Imports\n",
    "import pandas as pd\n",
    "from selenium import webdriver\n",
    "import time\n",
    "import requests\n",
    "import os\n",
    "\n",
    "from pathlib import Path"
   ]
  },
  {
   "cell_type": "code",
   "execution_count": null,
   "metadata": {},
   "outputs": [],
   "source": [
    "# Begining timer\n",
    "t0 = time.time()"
   ]
  },
  {
   "cell_type": "code",
   "execution_count": 2,
   "metadata": {},
   "outputs": [
    {
     "name": "stdin",
     "output_type": "stream",
     "text": [
      "Enter Event Number:  9173\n"
     ]
    }
   ],
   "source": [
    "# Requesting user to enter FEMA \"event number\"\n",
    "event_number = input(\"Enter Event Number: \")"
   ]
  },
  {
   "cell_type": "code",
   "execution_count": 29,
   "metadata": {},
   "outputs": [],
   "source": [
    "# Creating Directory on user's Desktop based on event number\n",
    "os.mkdir(os.path.abspath(Path.home()) + f'/Desktop/{event_number}/')"
   ]
  },
  {
   "cell_type": "code",
   "execution_count": 31,
   "metadata": {},
   "outputs": [],
   "source": [
    "# Assigning browser to be Firefox\n",
    "driver = webdriver.Firefox()\n",
    "# Long sleep time to account for slower loading times\n",
    "time.sleep(10)"
   ]
  },
  {
   "cell_type": "code",
   "execution_count": 32,
   "metadata": {},
   "outputs": [],
   "source": [
    "# Setting base url\n",
    "base_url = (f'http://fema-cap-imagery.s3-website-us-east-1.amazonaws.com/Images/{event_number}/')\n",
    "\n",
    "# Collecting page data\n",
    "driver.get(base_url)\n",
    "time.sleep(5)\n",
    "\n",
    "# Pulling everything under the 'listing' element into a variable and converting to list\n",
    "flight_list = driver.find_element_by_id('listing').text.split()\n",
    "\n",
    "# Generating list individual flight events\n",
    "# Checking against substrings and removing '/' from each itme\n",
    "flight_list = [i.strip('/') for i in flight_list if ('/' in i) and ('..' not in i)]"
   ]
  },
  {
   "cell_type": "code",
   "execution_count": 36,
   "metadata": {},
   "outputs": [],
   "source": [
    "# Function to grab image and write to flight specific directory\n",
    "def image_grab(image, flight, event_number):\n",
    "    image_url = f'https://s3.amazonaws.com/fema-cap-imagery/Images/{event_number}/{flight}/{image}'\n",
    "    image_grab = requests.get(image_url)\n",
    "    time.sleep(1)\n",
    "    open(os.path.expanduser(f'~/Desktop/{event_number}/{flight}/{flight}_{image}'), 'wb').write(image_grab.content)"
   ]
  },
  {
   "cell_type": "code",
   "execution_count": 35,
   "metadata": {},
   "outputs": [],
   "source": [
    "# Iterate through list of \n",
    "for flight in flight_list:\n",
    "    # Making directory to store images\n",
    "    os.mkdir(os.path.abspath(Path.home()) + f'/Desktop/{event_number}/{flight}')\n",
    "    # Loading flight event page into webdriver\n",
    "    driver.get(base_url + flight + '/')\n",
    "    # Pausing script to allow page to fully load\n",
    "    time.sleep(10)\n",
    "    # Calling list of all \n",
    "    temp_image_file_list = driver.find_element_by_id('listing').text.split()\n",
    "    temp_image_file_list = [i for i in temp_image_file_list if '.jpg' in i]\n",
    "    for image in temp_image_file_list:\n",
    "        image_grab(image, flight, event_number)"
   ]
  },
  {
   "cell_type": "code",
   "execution_count": null,
   "metadata": {},
   "outputs": [],
   "source": [
    "try:\n",
    "    image_grab(image, flight, event_number)\n",
    "except:\n",
    "    "
   ]
  },
  {
   "cell_type": "code",
   "execution_count": null,
   "metadata": {},
   "outputs": [],
   "source": [
    "# Closing Firefox\n",
    "driver.close()"
   ]
  },
  {
   "cell_type": "code",
   "execution_count": null,
   "metadata": {},
   "outputs": [],
   "source": [
    "# Ending timer and printing run time\n",
    "print(round((time.time() - t0), 2))"
   ]
  }
 ],
 "metadata": {
  "kernelspec": {
   "display_name": "Python [conda env:dsi] *",
   "language": "python",
   "name": "conda-env-dsi-py"
  },
  "language_info": {
   "codemirror_mode": {
    "name": "ipython",
    "version": 3
   },
   "file_extension": ".py",
   "mimetype": "text/x-python",
   "name": "python",
   "nbconvert_exporter": "python",
   "pygments_lexer": "ipython3",
   "version": "3.7.6"
  }
 },
 "nbformat": 4,
 "nbformat_minor": 4
}
