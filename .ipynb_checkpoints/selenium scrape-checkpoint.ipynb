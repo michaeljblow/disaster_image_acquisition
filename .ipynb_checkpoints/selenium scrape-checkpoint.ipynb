{
 "cells": [
  {
   "cell_type": "code",
   "execution_count": 1,
   "metadata": {},
   "outputs": [],
   "source": [
    "import pandas as pd\n",
    "from bs4 import BeautifulSoup\n",
    "from selenium import webdriver"
   ]
  },
  {
   "cell_type": "markdown",
   "metadata": {},
   "source": [
    "## Event ID Scrape\n",
    "For consistency I'm calling the '9173' the event ID. For examlple this is the Puerto Rico earthquake data.\n",
    "\n",
    "The chunk of code is "
   ]
  },
  {
   "cell_type": "code",
   "execution_count": 2,
   "metadata": {},
   "outputs": [],
   "source": [
    "# Setting base url\n",
    "url = 'http://fema-cap-imagery.s3-website-us-east-1.amazonaws.com/Images/9173/'\n",
    "\n",
    "# Assigning driver to be Firefox\n",
    "driver = webdriver.Firefox()\n",
    "\n",
    "# Collecting page data\n",
    "driver.get(url)"
   ]
  },
  {
   "cell_type": "code",
   "execution_count": 21,
   "metadata": {},
   "outputs": [],
   "source": [
    "# Pulling everything under the 'listing' element into a variable\n",
    "element = driver.find_element_by_id('listing')"
   ]
  },
  {
   "cell_type": "code",
   "execution_count": 25,
   "metadata": {},
   "outputs": [
    {
     "data": {
      "text/plain": [
       "selenium.webdriver.firefox.webelement.FirefoxWebElement"
      ]
     },
     "execution_count": 25,
     "metadata": {},
     "output_type": "execute_result"
    }
   ],
   "source": [
    "# Showing that the type is not terribly usable in it's current state\n",
    "type(element)"
   ]
  },
  {
   "cell_type": "code",
   "execution_count": 31,
   "metadata": {},
   "outputs": [],
   "source": [
    "# Converting selenium type into string\n",
    "element_str = driver.find_element_by_id('listing').text"
   ]
  },
  {
   "cell_type": "code",
   "execution_count": 33,
   "metadata": {},
   "outputs": [
    {
     "data": {
      "text/plain": [
       "['Last',\n",
       " 'Modified',\n",
       " 'Size',\n",
       " 'Key',\n",
       " '---------------------------------------------------------------------------------------------',\n",
       " '../',\n",
       " '0',\n",
       " '616567/',\n",
       " '0',\n",
       " '616568/',\n",
       " '0',\n",
       " '616569/',\n",
       " '0',\n",
       " '616570/',\n",
       " '0',\n",
       " '616571/',\n",
       " '0',\n",
       " '616572/',\n",
       " '0',\n",
       " '616573/',\n",
       " '0',\n",
       " '616574/',\n",
       " '0',\n",
       " '616575/',\n",
       " '0',\n",
       " '616576/',\n",
       " '0',\n",
       " '616578/',\n",
       " '0',\n",
       " '616579/',\n",
       " '0',\n",
       " '616580/',\n",
       " '0',\n",
       " '616581/',\n",
       " '0',\n",
       " '616582/',\n",
       " '0',\n",
       " '616584/',\n",
       " '0',\n",
       " '616585/',\n",
       " '0',\n",
       " '616586/',\n",
       " '0',\n",
       " '616587/',\n",
       " '0',\n",
       " '616589/',\n",
       " '0',\n",
       " '616590/',\n",
       " '0',\n",
       " '616591/',\n",
       " '0',\n",
       " '616592/',\n",
       " '0',\n",
       " '616593/',\n",
       " '0',\n",
       " '616594/',\n",
       " '0',\n",
       " '616596/',\n",
       " '0',\n",
       " '616597/',\n",
       " '0',\n",
       " '616598/',\n",
       " '0',\n",
       " '616600/',\n",
       " '0',\n",
       " '616601/',\n",
       " '0',\n",
       " '616602/',\n",
       " '0',\n",
       " '616603/',\n",
       " '0',\n",
       " '616604/',\n",
       " '0',\n",
       " '616606/',\n",
       " '0',\n",
       " '616607/',\n",
       " '0',\n",
       " '616608/',\n",
       " '0',\n",
       " '616610/',\n",
       " '0',\n",
       " '616612/',\n",
       " '0',\n",
       " '616613/',\n",
       " '0',\n",
       " '616614/',\n",
       " '0',\n",
       " '616618/',\n",
       " '0',\n",
       " '616619/',\n",
       " '0',\n",
       " '616620/',\n",
       " '0',\n",
       " '616621/',\n",
       " '0',\n",
       " '616622/',\n",
       " '0',\n",
       " '616623/',\n",
       " '0',\n",
       " '616624/',\n",
       " '0',\n",
       " '616625/',\n",
       " '0',\n",
       " '616626/',\n",
       " '0',\n",
       " '616628/',\n",
       " '0',\n",
       " '616629/',\n",
       " '0',\n",
       " '616630/',\n",
       " '0',\n",
       " '616631/',\n",
       " '0',\n",
       " '616633/',\n",
       " '0',\n",
       " '616637/',\n",
       " '0',\n",
       " '616638/',\n",
       " '0',\n",
       " '616639/']"
      ]
     },
     "execution_count": 33,
     "metadata": {},
     "output_type": "execute_result"
    }
   ],
   "source": [
    "# Initial split of string data.\n",
    "# At this point we're just formatting somehow to get the data we want.\n",
    "element_str.split()"
   ]
  }
 ],
 "metadata": {
  "kernelspec": {
   "display_name": "Python [conda env:dsi] *",
   "language": "python",
   "name": "conda-env-dsi-py"
  },
  "language_info": {
   "codemirror_mode": {
    "name": "ipython",
    "version": 3
   },
   "file_extension": ".py",
   "mimetype": "text/x-python",
   "name": "python",
   "nbconvert_exporter": "python",
   "pygments_lexer": "ipython3",
   "version": "3.7.6"
  }
 },
 "nbformat": 4,
 "nbformat_minor": 4
}
